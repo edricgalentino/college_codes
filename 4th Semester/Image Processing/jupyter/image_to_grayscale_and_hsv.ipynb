{
 "cells": [
  {
   "cell_type": "code",
   "execution_count": null,
   "metadata": {},
   "outputs": [],
   "source": [
    "##\n",
    "from PIL import Image\n",
    "import matplotlib.pyplot as plt\n",
    "\n",
    "# Use OpenCV here\n",
    "import cv2\n",
    "img = cv2.imread('../img/street-sign.jpg')\n",
    "\n",
    "# Tip: pip install opencv-python\n",
    "\n",
    "# Convert RGB color image to gray scale image\n",
    "img_filter_grayscale = cv2.cvtColor(img, cv2.COLOR_BGR2GRAY)\n",
    "# Convert RGB color image to hsv image\n",
    "img_filter_hsv = cv2.cvtColor(img, cv2.COLOR_BGR2HSV)\n",
    "\n",
    "plt.imshow(Image.open('../img/street-sign.jpg'))\n",
    "plt.show()\n",
    "\n",
    "plt.imshow(img_filter_grayscale, cmap=plt.cm.gray)\n",
    "plt.show()\n",
    "\n",
    "plt.imshow(img_filter_hsv)\n",
    "plt.show()"
   ]
  }
 ],
 "metadata": {
  "kernelspec": {
   "display_name": "Python 3",
   "language": "python",
   "name": "python3"
  },
  "language_info": {
   "name": "python",
   "version": "3.9.6"
  }
 },
 "nbformat": 4,
 "nbformat_minor": 2
}
